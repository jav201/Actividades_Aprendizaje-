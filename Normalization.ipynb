{
 "cells": [
  {
   "cell_type": "markdown",
   "id": "e1eb7ff0",
   "metadata": {},
   "source": [
    "## Transformaciones de datos"
   ]
  },
  {
   "cell_type": "code",
   "execution_count": 1,
   "id": "f49bf069",
   "metadata": {},
   "outputs": [],
   "source": [
    "import pandas as pd\n",
    "import numpy as np"
   ]
  },
  {
   "cell_type": "code",
   "execution_count": 2,
   "id": "4ba09563",
   "metadata": {},
   "outputs": [],
   "source": [
    "inPath = 'https://raw.githubusercontent.com/tec03/Datasets/main/datasets/Cartwheeldata.csv'"
   ]
  },
  {
   "cell_type": "code",
   "execution_count": 4,
   "id": "291e6a69",
   "metadata": {},
   "outputs": [
    {
     "data": {
      "text/html": [
       "<div>\n",
       "<style scoped>\n",
       "    .dataframe tbody tr th:only-of-type {\n",
       "        vertical-align: middle;\n",
       "    }\n",
       "\n",
       "    .dataframe tbody tr th {\n",
       "        vertical-align: top;\n",
       "    }\n",
       "\n",
       "    .dataframe thead th {\n",
       "        text-align: right;\n",
       "    }\n",
       "</style>\n",
       "<table border=\"1\" class=\"dataframe\">\n",
       "  <thead>\n",
       "    <tr style=\"text-align: right;\">\n",
       "      <th></th>\n",
       "      <th>Age</th>\n",
       "      <th>Gender</th>\n",
       "      <th>GenderGroup</th>\n",
       "      <th>Glasses</th>\n",
       "      <th>GlassesGroup</th>\n",
       "      <th>Height</th>\n",
       "      <th>Wingspan</th>\n",
       "      <th>CWDistance</th>\n",
       "      <th>Complete</th>\n",
       "      <th>CompleteGroup</th>\n",
       "      <th>Score</th>\n",
       "    </tr>\n",
       "  </thead>\n",
       "  <tbody>\n",
       "    <tr>\n",
       "      <th>1</th>\n",
       "      <td>56</td>\n",
       "      <td>F</td>\n",
       "      <td>1</td>\n",
       "      <td>Y</td>\n",
       "      <td>1</td>\n",
       "      <td>62.00</td>\n",
       "      <td>61.0</td>\n",
       "      <td>79</td>\n",
       "      <td>Y</td>\n",
       "      <td>1</td>\n",
       "      <td>7</td>\n",
       "    </tr>\n",
       "    <tr>\n",
       "      <th>2</th>\n",
       "      <td>26</td>\n",
       "      <td>F</td>\n",
       "      <td>1</td>\n",
       "      <td>Y</td>\n",
       "      <td>1</td>\n",
       "      <td>62.00</td>\n",
       "      <td>60.0</td>\n",
       "      <td>70</td>\n",
       "      <td>Y</td>\n",
       "      <td>1</td>\n",
       "      <td>8</td>\n",
       "    </tr>\n",
       "    <tr>\n",
       "      <th>3</th>\n",
       "      <td>33</td>\n",
       "      <td>F</td>\n",
       "      <td>1</td>\n",
       "      <td>Y</td>\n",
       "      <td>1</td>\n",
       "      <td>66.00</td>\n",
       "      <td>64.0</td>\n",
       "      <td>85</td>\n",
       "      <td>Y</td>\n",
       "      <td>1</td>\n",
       "      <td>0</td>\n",
       "    </tr>\n",
       "    <tr>\n",
       "      <th>4</th>\n",
       "      <td>39</td>\n",
       "      <td>F</td>\n",
       "      <td>1</td>\n",
       "      <td>N</td>\n",
       "      <td>0</td>\n",
       "      <td>64.00</td>\n",
       "      <td>63.0</td>\n",
       "      <td>87</td>\n",
       "      <td>Y</td>\n",
       "      <td>1</td>\n",
       "      <td>10</td>\n",
       "    </tr>\n",
       "    <tr>\n",
       "      <th>5</th>\n",
       "      <td>27</td>\n",
       "      <td>M</td>\n",
       "      <td>2</td>\n",
       "      <td>N</td>\n",
       "      <td>0</td>\n",
       "      <td>73.00</td>\n",
       "      <td>75.0</td>\n",
       "      <td>72</td>\n",
       "      <td>N</td>\n",
       "      <td>0</td>\n",
       "      <td>4</td>\n",
       "    </tr>\n",
       "    <tr>\n",
       "      <th>6</th>\n",
       "      <td>24</td>\n",
       "      <td>M</td>\n",
       "      <td>2</td>\n",
       "      <td>N</td>\n",
       "      <td>0</td>\n",
       "      <td>75.00</td>\n",
       "      <td>71.0</td>\n",
       "      <td>81</td>\n",
       "      <td>N</td>\n",
       "      <td>0</td>\n",
       "      <td>3</td>\n",
       "    </tr>\n",
       "    <tr>\n",
       "      <th>7</th>\n",
       "      <td>28</td>\n",
       "      <td>M</td>\n",
       "      <td>2</td>\n",
       "      <td>N</td>\n",
       "      <td>0</td>\n",
       "      <td>75.00</td>\n",
       "      <td>76.0</td>\n",
       "      <td>107</td>\n",
       "      <td>Y</td>\n",
       "      <td>1</td>\n",
       "      <td>10</td>\n",
       "    </tr>\n",
       "    <tr>\n",
       "      <th>8</th>\n",
       "      <td>22</td>\n",
       "      <td>F</td>\n",
       "      <td>1</td>\n",
       "      <td>N</td>\n",
       "      <td>0</td>\n",
       "      <td>65.00</td>\n",
       "      <td>62.0</td>\n",
       "      <td>98</td>\n",
       "      <td>Y</td>\n",
       "      <td>1</td>\n",
       "      <td>9</td>\n",
       "    </tr>\n",
       "    <tr>\n",
       "      <th>9</th>\n",
       "      <td>29</td>\n",
       "      <td>M</td>\n",
       "      <td>2</td>\n",
       "      <td>Y</td>\n",
       "      <td>1</td>\n",
       "      <td>74.00</td>\n",
       "      <td>73.0</td>\n",
       "      <td>106</td>\n",
       "      <td>N</td>\n",
       "      <td>0</td>\n",
       "      <td>5</td>\n",
       "    </tr>\n",
       "    <tr>\n",
       "      <th>10</th>\n",
       "      <td>33</td>\n",
       "      <td>F</td>\n",
       "      <td>1</td>\n",
       "      <td>Y</td>\n",
       "      <td>1</td>\n",
       "      <td>63.00</td>\n",
       "      <td>60.0</td>\n",
       "      <td>65</td>\n",
       "      <td>Y</td>\n",
       "      <td>1</td>\n",
       "      <td>8</td>\n",
       "    </tr>\n",
       "    <tr>\n",
       "      <th>11</th>\n",
       "      <td>30</td>\n",
       "      <td>M</td>\n",
       "      <td>2</td>\n",
       "      <td>Y</td>\n",
       "      <td>1</td>\n",
       "      <td>69.50</td>\n",
       "      <td>66.0</td>\n",
       "      <td>96</td>\n",
       "      <td>Y</td>\n",
       "      <td>1</td>\n",
       "      <td>6</td>\n",
       "    </tr>\n",
       "    <tr>\n",
       "      <th>12</th>\n",
       "      <td>28</td>\n",
       "      <td>F</td>\n",
       "      <td>1</td>\n",
       "      <td>Y</td>\n",
       "      <td>1</td>\n",
       "      <td>62.75</td>\n",
       "      <td>58.0</td>\n",
       "      <td>79</td>\n",
       "      <td>Y</td>\n",
       "      <td>1</td>\n",
       "      <td>10</td>\n",
       "    </tr>\n",
       "    <tr>\n",
       "      <th>13</th>\n",
       "      <td>25</td>\n",
       "      <td>F</td>\n",
       "      <td>1</td>\n",
       "      <td>Y</td>\n",
       "      <td>1</td>\n",
       "      <td>65.00</td>\n",
       "      <td>64.5</td>\n",
       "      <td>92</td>\n",
       "      <td>Y</td>\n",
       "      <td>1</td>\n",
       "      <td>6</td>\n",
       "    </tr>\n",
       "    <tr>\n",
       "      <th>14</th>\n",
       "      <td>23</td>\n",
       "      <td>F</td>\n",
       "      <td>1</td>\n",
       "      <td>N</td>\n",
       "      <td>0</td>\n",
       "      <td>61.50</td>\n",
       "      <td>57.5</td>\n",
       "      <td>66</td>\n",
       "      <td>Y</td>\n",
       "      <td>1</td>\n",
       "      <td>4</td>\n",
       "    </tr>\n",
       "    <tr>\n",
       "      <th>15</th>\n",
       "      <td>31</td>\n",
       "      <td>M</td>\n",
       "      <td>2</td>\n",
       "      <td>Y</td>\n",
       "      <td>1</td>\n",
       "      <td>73.00</td>\n",
       "      <td>74.0</td>\n",
       "      <td>72</td>\n",
       "      <td>Y</td>\n",
       "      <td>1</td>\n",
       "      <td>9</td>\n",
       "    </tr>\n",
       "    <tr>\n",
       "      <th>16</th>\n",
       "      <td>26</td>\n",
       "      <td>M</td>\n",
       "      <td>2</td>\n",
       "      <td>Y</td>\n",
       "      <td>1</td>\n",
       "      <td>71.00</td>\n",
       "      <td>72.0</td>\n",
       "      <td>115</td>\n",
       "      <td>Y</td>\n",
       "      <td>1</td>\n",
       "      <td>6</td>\n",
       "    </tr>\n",
       "    <tr>\n",
       "      <th>17</th>\n",
       "      <td>26</td>\n",
       "      <td>F</td>\n",
       "      <td>1</td>\n",
       "      <td>N</td>\n",
       "      <td>0</td>\n",
       "      <td>61.50</td>\n",
       "      <td>59.5</td>\n",
       "      <td>90</td>\n",
       "      <td>N</td>\n",
       "      <td>0</td>\n",
       "      <td>10</td>\n",
       "    </tr>\n",
       "    <tr>\n",
       "      <th>18</th>\n",
       "      <td>27</td>\n",
       "      <td>M</td>\n",
       "      <td>2</td>\n",
       "      <td>N</td>\n",
       "      <td>0</td>\n",
       "      <td>66.00</td>\n",
       "      <td>66.0</td>\n",
       "      <td>74</td>\n",
       "      <td>Y</td>\n",
       "      <td>1</td>\n",
       "      <td>5</td>\n",
       "    </tr>\n",
       "    <tr>\n",
       "      <th>19</th>\n",
       "      <td>23</td>\n",
       "      <td>M</td>\n",
       "      <td>2</td>\n",
       "      <td>Y</td>\n",
       "      <td>1</td>\n",
       "      <td>70.00</td>\n",
       "      <td>69.0</td>\n",
       "      <td>64</td>\n",
       "      <td>Y</td>\n",
       "      <td>1</td>\n",
       "      <td>3</td>\n",
       "    </tr>\n",
       "    <tr>\n",
       "      <th>20</th>\n",
       "      <td>24</td>\n",
       "      <td>F</td>\n",
       "      <td>1</td>\n",
       "      <td>Y</td>\n",
       "      <td>1</td>\n",
       "      <td>68.00</td>\n",
       "      <td>66.0</td>\n",
       "      <td>85</td>\n",
       "      <td>Y</td>\n",
       "      <td>1</td>\n",
       "      <td>8</td>\n",
       "    </tr>\n",
       "    <tr>\n",
       "      <th>21</th>\n",
       "      <td>23</td>\n",
       "      <td>M</td>\n",
       "      <td>2</td>\n",
       "      <td>Y</td>\n",
       "      <td>1</td>\n",
       "      <td>69.00</td>\n",
       "      <td>67.0</td>\n",
       "      <td>66</td>\n",
       "      <td>N</td>\n",
       "      <td>0</td>\n",
       "      <td>2</td>\n",
       "    </tr>\n",
       "    <tr>\n",
       "      <th>22</th>\n",
       "      <td>29</td>\n",
       "      <td>M</td>\n",
       "      <td>2</td>\n",
       "      <td>N</td>\n",
       "      <td>0</td>\n",
       "      <td>71.00</td>\n",
       "      <td>70.0</td>\n",
       "      <td>101</td>\n",
       "      <td>Y</td>\n",
       "      <td>1</td>\n",
       "      <td>8</td>\n",
       "    </tr>\n",
       "    <tr>\n",
       "      <th>23</th>\n",
       "      <td>25</td>\n",
       "      <td>M</td>\n",
       "      <td>2</td>\n",
       "      <td>N</td>\n",
       "      <td>0</td>\n",
       "      <td>70.00</td>\n",
       "      <td>68.0</td>\n",
       "      <td>82</td>\n",
       "      <td>Y</td>\n",
       "      <td>1</td>\n",
       "      <td>4</td>\n",
       "    </tr>\n",
       "    <tr>\n",
       "      <th>24</th>\n",
       "      <td>26</td>\n",
       "      <td>M</td>\n",
       "      <td>2</td>\n",
       "      <td>N</td>\n",
       "      <td>0</td>\n",
       "      <td>69.00</td>\n",
       "      <td>71.0</td>\n",
       "      <td>63</td>\n",
       "      <td>Y</td>\n",
       "      <td>1</td>\n",
       "      <td>5</td>\n",
       "    </tr>\n",
       "    <tr>\n",
       "      <th>25</th>\n",
       "      <td>23</td>\n",
       "      <td>F</td>\n",
       "      <td>1</td>\n",
       "      <td>Y</td>\n",
       "      <td>1</td>\n",
       "      <td>65.00</td>\n",
       "      <td>63.0</td>\n",
       "      <td>67</td>\n",
       "      <td>N</td>\n",
       "      <td>0</td>\n",
       "      <td>3</td>\n",
       "    </tr>\n",
       "  </tbody>\n",
       "</table>\n",
       "</div>"
      ],
      "text/plain": [
       "    Age Gender  GenderGroup Glasses  GlassesGroup  Height  Wingspan  \\\n",
       "1    56      F            1       Y             1   62.00      61.0   \n",
       "2    26      F            1       Y             1   62.00      60.0   \n",
       "3    33      F            1       Y             1   66.00      64.0   \n",
       "4    39      F            1       N             0   64.00      63.0   \n",
       "5    27      M            2       N             0   73.00      75.0   \n",
       "6    24      M            2       N             0   75.00      71.0   \n",
       "7    28      M            2       N             0   75.00      76.0   \n",
       "8    22      F            1       N             0   65.00      62.0   \n",
       "9    29      M            2       Y             1   74.00      73.0   \n",
       "10   33      F            1       Y             1   63.00      60.0   \n",
       "11   30      M            2       Y             1   69.50      66.0   \n",
       "12   28      F            1       Y             1   62.75      58.0   \n",
       "13   25      F            1       Y             1   65.00      64.5   \n",
       "14   23      F            1       N             0   61.50      57.5   \n",
       "15   31      M            2       Y             1   73.00      74.0   \n",
       "16   26      M            2       Y             1   71.00      72.0   \n",
       "17   26      F            1       N             0   61.50      59.5   \n",
       "18   27      M            2       N             0   66.00      66.0   \n",
       "19   23      M            2       Y             1   70.00      69.0   \n",
       "20   24      F            1       Y             1   68.00      66.0   \n",
       "21   23      M            2       Y             1   69.00      67.0   \n",
       "22   29      M            2       N             0   71.00      70.0   \n",
       "23   25      M            2       N             0   70.00      68.0   \n",
       "24   26      M            2       N             0   69.00      71.0   \n",
       "25   23      F            1       Y             1   65.00      63.0   \n",
       "\n",
       "    CWDistance Complete  CompleteGroup  Score  \n",
       "1           79        Y              1      7  \n",
       "2           70        Y              1      8  \n",
       "3           85        Y              1      0  \n",
       "4           87        Y              1     10  \n",
       "5           72        N              0      4  \n",
       "6           81        N              0      3  \n",
       "7          107        Y              1     10  \n",
       "8           98        Y              1      9  \n",
       "9          106        N              0      5  \n",
       "10          65        Y              1      8  \n",
       "11          96        Y              1      6  \n",
       "12          79        Y              1     10  \n",
       "13          92        Y              1      6  \n",
       "14          66        Y              1      4  \n",
       "15          72        Y              1      9  \n",
       "16         115        Y              1      6  \n",
       "17          90        N              0     10  \n",
       "18          74        Y              1      5  \n",
       "19          64        Y              1      3  \n",
       "20          85        Y              1      8  \n",
       "21          66        N              0      2  \n",
       "22         101        Y              1      8  \n",
       "23          82        Y              1      4  \n",
       "24          63        Y              1      5  \n",
       "25          67        N              0      3  "
      ]
     },
     "execution_count": 4,
     "metadata": {},
     "output_type": "execute_result"
    }
   ],
   "source": [
    "df = pd.read_csv(inPath, \n",
    "                 index_col = 0\n",
    "                )\n",
    "df.index.name = None\n",
    "df"
   ]
  },
  {
   "cell_type": "code",
   "execution_count": 7,
   "id": "fca36bc2",
   "metadata": {},
   "outputs": [
    {
     "data": {
      "text/plain": [
       "0"
      ]
     },
     "execution_count": 7,
     "metadata": {},
     "output_type": "execute_result"
    }
   ],
   "source": [
    "df.Score.min()"
   ]
  },
  {
   "cell_type": "code",
   "execution_count": 8,
   "id": "9f04594b",
   "metadata": {},
   "outputs": [
    {
     "data": {
      "text/plain": [
       "10"
      ]
     },
     "execution_count": 8,
     "metadata": {},
     "output_type": "execute_result"
    }
   ],
   "source": [
    "df.Score.max()"
   ]
  },
  {
   "cell_type": "code",
   "execution_count": 9,
   "id": "dd061720",
   "metadata": {},
   "outputs": [
    {
     "data": {
      "text/plain": [
       "1      7\n",
       "2      8\n",
       "3      0\n",
       "4     10\n",
       "5      4\n",
       "6      3\n",
       "7     10\n",
       "8      9\n",
       "9      5\n",
       "10     8\n",
       "Name: Score, dtype: int64"
      ]
     },
     "execution_count": 9,
     "metadata": {},
     "output_type": "execute_result"
    }
   ],
   "source": [
    "varX = df.Score.head(10)\n",
    "varX"
   ]
  },
  {
   "cell_type": "markdown",
   "id": "54225c12",
   "metadata": {},
   "source": [
    "## 1. Normalización mín.-máx.\n",
    "\n",
    "La normalización mín-máx es una de las formas populares de normalizar datos. Para cada conjunto de datos que se va a normalizar:\n",
    "\n",
    "* El valor `mínimo` de ese conjunto de datos se transforma en 0, y\n",
    "* El valor `máximo` se transforma en 1, y\n",
    "* Todos los demás valores se transforman en un decimal `entre 0 y 1`\n",
    "* En la mayoría de las situaciones, los datos se normalizan para ajustarse a un rango objetivo de [0, 1]\n",
    " $$ x_{i^{}}^{new}=\\frac{x_{i^{}}^{old}-\\min\\left(A\\right)}{\\max\\left(A\\right)-\\min\\left(A\\right)} $$\n",
    "\n",
    "Esto puede ser útil cuando:\n",
    "\n",
    "* Comparación de datos de dos escalas diferentes\n",
    "* Conversión de datos a una nueva escala\n",
    "\n",
    "All the data saved in `varX` will be converted to a value in `[0, 1]`"
   ]
  },
  {
   "cell_type": "code",
   "execution_count": 43,
   "id": "ee98ab20",
   "metadata": {},
   "outputs": [],
   "source": [
    "def normalizeZeroOne(x):\n",
    "    min = np.min(x)\n",
    "    max = np.max(x)\n",
    "    range = max - min\n",
    "    return [(a - min) / \n",
    "            range \n",
    "            for a in x\n",
    "           ]"
   ]
  },
  {
   "cell_type": "code",
   "execution_count": 44,
   "id": "eb95b14e",
   "metadata": {},
   "outputs": [
    {
     "name": "stdout",
     "output_type": "stream",
     "text": [
      "[0.7, 0.8, 0.0, 1.0, 0.4, 0.3, 1.0, 0.9, 0.5, 0.8]\n"
     ]
    }
   ],
   "source": [
    "X = varX.copy()\n",
    "normalizedValues = normalizeZeroOne(X)\n",
    "\n",
    "print(normalizedValues)"
   ]
  },
  {
   "cell_type": "code",
   "execution_count": 45,
   "id": "d54af24c",
   "metadata": {},
   "outputs": [
    {
     "name": "stdout",
     "output_type": "stream",
     "text": [
      "0.0\n",
      "1.0\n"
     ]
    }
   ],
   "source": [
    "print(min(normalizedValues))\n",
    "print(max(normalizedValues))"
   ]
  },
  {
   "cell_type": "markdown",
   "id": "fe8ebc58",
   "metadata": {},
   "source": [
    "## 2. Normalizing from [0, 1] to any other range\n",
    "\n",
    "Formula:\n",
    "\n",
    "$$x_i^{new}=x_i^{old}\\cdot\\left(rango_{nuevo}\\right)+ LimiteInferior_{nueva} $$"
   ]
  },
  {
   "cell_type": "code",
   "execution_count": 50,
   "id": "934f20e5",
   "metadata": {},
   "outputs": [],
   "source": [
    "def normalizeNewRange(normalizedX, \n",
    "              nLoBound, \n",
    "              nUpBound\n",
    "             ):\n",
    "    range = nUpBound - nLoBound\n",
    "\n",
    "    return [a * range + \n",
    "            nLoBound \n",
    "            for a in normalizedX\n",
    "           ]"
   ]
  },
  {
   "cell_type": "code",
   "execution_count": 54,
   "id": "62b27d61",
   "metadata": {},
   "outputs": [
    {
     "name": "stdout",
     "output_type": "stream",
     "text": [
      "[17.0, 18.0, 10.0, 20.0, 14.0, 13.0, 20.0, 19.0, 15.0, 18.0]\n"
     ]
    }
   ],
   "source": [
    "normalizedX = normalizedValues.copy()\n",
    "\n",
    "Y = normalizeNewRange(normalizedX, \n",
    "              10, 20 #new range we are interested in\n",
    "             )\n",
    "print(Y)"
   ]
  },
  {
   "cell_type": "markdown",
   "id": "3fec3af6",
   "metadata": {},
   "source": [
    "Here, we converted all values of normalizedX, which are in [0, 1], converted to a new range [10, 20]. "
   ]
  },
  {
   "cell_type": "markdown",
   "id": "68f57c9e",
   "metadata": {},
   "source": [
    "## 3. Normalización de un rango a otro\n",
    "\n",
    "$$x_i^{new}=\\left(\\frac{x_{i^{}}^{old}-\\min\\left(A\\right)}{\\max\\left(A\\right)-\\min\\left(A\\right)}\\right)\\cdot\\left(rango_{nuevo}\\right)+LimiteInferior_{nueva}$$"
   ]
  },
  {
   "cell_type": "code",
   "execution_count": 55,
   "id": "d41cd0d0",
   "metadata": {},
   "outputs": [],
   "source": [
    "def normalizeNewRange(X, nLoBound, nUpBound):\n",
    "    min = np.min(X)\n",
    "    max = np.max(X)\n",
    "    range = max - min\n",
    "    nRange = nUpBound - nLoBound\n",
    "\n",
    "    return [((xi - min) / range) * nRange + \n",
    "            nLoBound \n",
    "            for xi in X\n",
    "           ]"
   ]
  },
  {
   "cell_type": "code",
   "execution_count": 57,
   "id": "1305f072",
   "metadata": {},
   "outputs": [
    {
     "name": "stdout",
     "output_type": "stream",
     "text": [
      "[170.0, 180.0, 100.0, 200.0, 140.0, 130.0, 200.0, 190.0, 150.0, 180.0]\n"
     ]
    }
   ],
   "source": [
    "X = varX.copy()\n",
    "Y = normalizeNewRange(X, 100, 200)\n",
    "\n",
    "print(Y)"
   ]
  },
  {
   "cell_type": "markdown",
   "id": "aab95c2e",
   "metadata": {},
   "source": [
    "## 4. Normalización de un df\n",
    "\n",
    "Podemos usar el siguiente código para aplicar una normalización min-max a cada columna en el DataFrame:"
   ]
  },
  {
   "cell_type": "code",
   "execution_count": 69,
   "id": "e4e6186f",
   "metadata": {},
   "outputs": [
    {
     "data": {
      "text/html": [
       "<div>\n",
       "<style scoped>\n",
       "    .dataframe tbody tr th:only-of-type {\n",
       "        vertical-align: middle;\n",
       "    }\n",
       "\n",
       "    .dataframe tbody tr th {\n",
       "        vertical-align: top;\n",
       "    }\n",
       "\n",
       "    .dataframe thead th {\n",
       "        text-align: right;\n",
       "    }\n",
       "</style>\n",
       "<table border=\"1\" class=\"dataframe\">\n",
       "  <thead>\n",
       "    <tr style=\"text-align: right;\">\n",
       "      <th></th>\n",
       "      <th>Age</th>\n",
       "      <th>Gender</th>\n",
       "      <th>GenderGroup</th>\n",
       "      <th>Glasses</th>\n",
       "      <th>GlassesGroup</th>\n",
       "      <th>Height</th>\n",
       "      <th>Wingspan</th>\n",
       "      <th>CWDistance</th>\n",
       "      <th>Complete</th>\n",
       "      <th>CompleteGroup</th>\n",
       "      <th>Score</th>\n",
       "    </tr>\n",
       "  </thead>\n",
       "  <tbody>\n",
       "    <tr>\n",
       "      <th>1</th>\n",
       "      <td>56</td>\n",
       "      <td>F</td>\n",
       "      <td>1</td>\n",
       "      <td>Y</td>\n",
       "      <td>1</td>\n",
       "      <td>62.0</td>\n",
       "      <td>61.0</td>\n",
       "      <td>79</td>\n",
       "      <td>Y</td>\n",
       "      <td>1</td>\n",
       "      <td>7</td>\n",
       "    </tr>\n",
       "    <tr>\n",
       "      <th>2</th>\n",
       "      <td>26</td>\n",
       "      <td>F</td>\n",
       "      <td>1</td>\n",
       "      <td>Y</td>\n",
       "      <td>1</td>\n",
       "      <td>62.0</td>\n",
       "      <td>60.0</td>\n",
       "      <td>70</td>\n",
       "      <td>Y</td>\n",
       "      <td>1</td>\n",
       "      <td>8</td>\n",
       "    </tr>\n",
       "    <tr>\n",
       "      <th>3</th>\n",
       "      <td>33</td>\n",
       "      <td>F</td>\n",
       "      <td>1</td>\n",
       "      <td>Y</td>\n",
       "      <td>1</td>\n",
       "      <td>66.0</td>\n",
       "      <td>64.0</td>\n",
       "      <td>85</td>\n",
       "      <td>Y</td>\n",
       "      <td>1</td>\n",
       "      <td>0</td>\n",
       "    </tr>\n",
       "    <tr>\n",
       "      <th>4</th>\n",
       "      <td>39</td>\n",
       "      <td>F</td>\n",
       "      <td>1</td>\n",
       "      <td>N</td>\n",
       "      <td>0</td>\n",
       "      <td>64.0</td>\n",
       "      <td>63.0</td>\n",
       "      <td>87</td>\n",
       "      <td>Y</td>\n",
       "      <td>1</td>\n",
       "      <td>10</td>\n",
       "    </tr>\n",
       "    <tr>\n",
       "      <th>5</th>\n",
       "      <td>27</td>\n",
       "      <td>M</td>\n",
       "      <td>2</td>\n",
       "      <td>N</td>\n",
       "      <td>0</td>\n",
       "      <td>73.0</td>\n",
       "      <td>75.0</td>\n",
       "      <td>72</td>\n",
       "      <td>N</td>\n",
       "      <td>0</td>\n",
       "      <td>4</td>\n",
       "    </tr>\n",
       "  </tbody>\n",
       "</table>\n",
       "</div>"
      ],
      "text/plain": [
       "   Age Gender  GenderGroup Glasses  GlassesGroup  Height  Wingspan  \\\n",
       "1   56      F            1       Y             1    62.0      61.0   \n",
       "2   26      F            1       Y             1    62.0      60.0   \n",
       "3   33      F            1       Y             1    66.0      64.0   \n",
       "4   39      F            1       N             0    64.0      63.0   \n",
       "5   27      M            2       N             0    73.0      75.0   \n",
       "\n",
       "   CWDistance Complete  CompleteGroup  Score  \n",
       "1          79        Y              1      7  \n",
       "2          70        Y              1      8  \n",
       "3          85        Y              1      0  \n",
       "4          87        Y              1     10  \n",
       "5          72        N              0      4  "
      ]
     },
     "execution_count": 69,
     "metadata": {},
     "output_type": "execute_result"
    }
   ],
   "source": [
    "ndf = df.head().copy()\n",
    "ndf"
   ]
  },
  {
   "cell_type": "code",
   "execution_count": 70,
   "id": "f132b649",
   "metadata": {},
   "outputs": [
    {
     "data": {
      "text/plain": [
       "Index(['Age', 'Gender', 'GenderGroup', 'Glasses', 'GlassesGroup', 'Height',\n",
       "       'Wingspan', 'CWDistance', 'Complete', 'CompleteGroup', 'Score'],\n",
       "      dtype='object')"
      ]
     },
     "execution_count": 70,
     "metadata": {},
     "output_type": "execute_result"
    }
   ],
   "source": [
    "ndf.columns"
   ]
  },
  {
   "cell_type": "code",
   "execution_count": 71,
   "id": "a7528ea8",
   "metadata": {},
   "outputs": [
    {
     "data": {
      "text/html": [
       "<div>\n",
       "<style scoped>\n",
       "    .dataframe tbody tr th:only-of-type {\n",
       "        vertical-align: middle;\n",
       "    }\n",
       "\n",
       "    .dataframe tbody tr th {\n",
       "        vertical-align: top;\n",
       "    }\n",
       "\n",
       "    .dataframe thead th {\n",
       "        text-align: right;\n",
       "    }\n",
       "</style>\n",
       "<table border=\"1\" class=\"dataframe\">\n",
       "  <thead>\n",
       "    <tr style=\"text-align: right;\">\n",
       "      <th></th>\n",
       "      <th>Age</th>\n",
       "      <th>GenderGroup</th>\n",
       "      <th>GlassesGroup</th>\n",
       "      <th>Height</th>\n",
       "      <th>Wingspan</th>\n",
       "      <th>CWDistance</th>\n",
       "      <th>CompleteGroup</th>\n",
       "      <th>Score</th>\n",
       "    </tr>\n",
       "  </thead>\n",
       "  <tbody>\n",
       "    <tr>\n",
       "      <th>1</th>\n",
       "      <td>56</td>\n",
       "      <td>1</td>\n",
       "      <td>1</td>\n",
       "      <td>62.0</td>\n",
       "      <td>61.0</td>\n",
       "      <td>79</td>\n",
       "      <td>1</td>\n",
       "      <td>7</td>\n",
       "    </tr>\n",
       "    <tr>\n",
       "      <th>2</th>\n",
       "      <td>26</td>\n",
       "      <td>1</td>\n",
       "      <td>1</td>\n",
       "      <td>62.0</td>\n",
       "      <td>60.0</td>\n",
       "      <td>70</td>\n",
       "      <td>1</td>\n",
       "      <td>8</td>\n",
       "    </tr>\n",
       "    <tr>\n",
       "      <th>3</th>\n",
       "      <td>33</td>\n",
       "      <td>1</td>\n",
       "      <td>1</td>\n",
       "      <td>66.0</td>\n",
       "      <td>64.0</td>\n",
       "      <td>85</td>\n",
       "      <td>1</td>\n",
       "      <td>0</td>\n",
       "    </tr>\n",
       "    <tr>\n",
       "      <th>4</th>\n",
       "      <td>39</td>\n",
       "      <td>1</td>\n",
       "      <td>0</td>\n",
       "      <td>64.0</td>\n",
       "      <td>63.0</td>\n",
       "      <td>87</td>\n",
       "      <td>1</td>\n",
       "      <td>10</td>\n",
       "    </tr>\n",
       "    <tr>\n",
       "      <th>5</th>\n",
       "      <td>27</td>\n",
       "      <td>2</td>\n",
       "      <td>0</td>\n",
       "      <td>73.0</td>\n",
       "      <td>75.0</td>\n",
       "      <td>72</td>\n",
       "      <td>0</td>\n",
       "      <td>4</td>\n",
       "    </tr>\n",
       "  </tbody>\n",
       "</table>\n",
       "</div>"
      ],
      "text/plain": [
       "   Age  GenderGroup  GlassesGroup  Height  Wingspan  CWDistance  \\\n",
       "1   56            1             1    62.0      61.0          79   \n",
       "2   26            1             1    62.0      60.0          70   \n",
       "3   33            1             1    66.0      64.0          85   \n",
       "4   39            1             0    64.0      63.0          87   \n",
       "5   27            2             0    73.0      75.0          72   \n",
       "\n",
       "   CompleteGroup  Score  \n",
       "1              1      7  \n",
       "2              1      8  \n",
       "3              1      0  \n",
       "4              1     10  \n",
       "5              0      4  "
      ]
     },
     "execution_count": 71,
     "metadata": {},
     "output_type": "execute_result"
    }
   ],
   "source": [
    "ndf.drop(['Gender', 'Glasses', 'Complete'], \n",
    "         axis = 1, \n",
    "         inplace = True\n",
    "        )\n",
    "ndf"
   ]
  },
  {
   "cell_type": "code",
   "execution_count": 75,
   "id": "25e3b0af",
   "metadata": {},
   "outputs": [
    {
     "data": {
      "text/plain": [
       "Age              56.0\n",
       "GenderGroup       2.0\n",
       "GlassesGroup      1.0\n",
       "Height           73.0\n",
       "Wingspan         75.0\n",
       "CWDistance       87.0\n",
       "CompleteGroup     1.0\n",
       "Score            10.0\n",
       "dtype: float64"
      ]
     },
     "execution_count": 75,
     "metadata": {},
     "output_type": "execute_result"
    }
   ],
   "source": [
    "ndf.max()"
   ]
  },
  {
   "cell_type": "code",
   "execution_count": 76,
   "id": "47aee57c",
   "metadata": {},
   "outputs": [
    {
     "data": {
      "text/plain": [
       "Age              26.0\n",
       "GenderGroup       1.0\n",
       "GlassesGroup      0.0\n",
       "Height           62.0\n",
       "Wingspan         60.0\n",
       "CWDistance       70.0\n",
       "CompleteGroup     0.0\n",
       "Score             0.0\n",
       "dtype: float64"
      ]
     },
     "execution_count": 76,
     "metadata": {},
     "output_type": "execute_result"
    }
   ],
   "source": [
    "ndf.min()"
   ]
  },
  {
   "cell_type": "code",
   "execution_count": 78,
   "id": "c53f9a5b",
   "metadata": {},
   "outputs": [
    {
     "data": {
      "text/plain": [
       "Age              30.0\n",
       "GenderGroup       1.0\n",
       "GlassesGroup      1.0\n",
       "Height           11.0\n",
       "Wingspan         15.0\n",
       "CWDistance       17.0\n",
       "CompleteGroup     1.0\n",
       "Score            10.0\n",
       "dtype: float64"
      ]
     },
     "execution_count": 78,
     "metadata": {},
     "output_type": "execute_result"
    }
   ],
   "source": [
    "ndfRange = ndf.max()-ndf.min()\n",
    "ndfRange"
   ]
  },
  {
   "cell_type": "code",
   "execution_count": 74,
   "id": "b7132269",
   "metadata": {},
   "outputs": [
    {
     "data": {
      "text/html": [
       "<div>\n",
       "<style scoped>\n",
       "    .dataframe tbody tr th:only-of-type {\n",
       "        vertical-align: middle;\n",
       "    }\n",
       "\n",
       "    .dataframe tbody tr th {\n",
       "        vertical-align: top;\n",
       "    }\n",
       "\n",
       "    .dataframe thead th {\n",
       "        text-align: right;\n",
       "    }\n",
       "</style>\n",
       "<table border=\"1\" class=\"dataframe\">\n",
       "  <thead>\n",
       "    <tr style=\"text-align: right;\">\n",
       "      <th></th>\n",
       "      <th>Age</th>\n",
       "      <th>GenderGroup</th>\n",
       "      <th>GlassesGroup</th>\n",
       "      <th>Height</th>\n",
       "      <th>Wingspan</th>\n",
       "      <th>CWDistance</th>\n",
       "      <th>CompleteGroup</th>\n",
       "      <th>Score</th>\n",
       "    </tr>\n",
       "  </thead>\n",
       "  <tbody>\n",
       "    <tr>\n",
       "      <th>1</th>\n",
       "      <td>1.00</td>\n",
       "      <td>0.0</td>\n",
       "      <td>1.0</td>\n",
       "      <td>0.00</td>\n",
       "      <td>0.07</td>\n",
       "      <td>0.53</td>\n",
       "      <td>1.0</td>\n",
       "      <td>0.7</td>\n",
       "    </tr>\n",
       "    <tr>\n",
       "      <th>2</th>\n",
       "      <td>0.00</td>\n",
       "      <td>0.0</td>\n",
       "      <td>1.0</td>\n",
       "      <td>0.00</td>\n",
       "      <td>0.00</td>\n",
       "      <td>0.00</td>\n",
       "      <td>1.0</td>\n",
       "      <td>0.8</td>\n",
       "    </tr>\n",
       "    <tr>\n",
       "      <th>3</th>\n",
       "      <td>0.23</td>\n",
       "      <td>0.0</td>\n",
       "      <td>1.0</td>\n",
       "      <td>0.36</td>\n",
       "      <td>0.27</td>\n",
       "      <td>0.88</td>\n",
       "      <td>1.0</td>\n",
       "      <td>0.0</td>\n",
       "    </tr>\n",
       "    <tr>\n",
       "      <th>4</th>\n",
       "      <td>0.43</td>\n",
       "      <td>0.0</td>\n",
       "      <td>0.0</td>\n",
       "      <td>0.18</td>\n",
       "      <td>0.20</td>\n",
       "      <td>1.00</td>\n",
       "      <td>1.0</td>\n",
       "      <td>1.0</td>\n",
       "    </tr>\n",
       "    <tr>\n",
       "      <th>5</th>\n",
       "      <td>0.03</td>\n",
       "      <td>1.0</td>\n",
       "      <td>0.0</td>\n",
       "      <td>1.00</td>\n",
       "      <td>1.00</td>\n",
       "      <td>0.12</td>\n",
       "      <td>0.0</td>\n",
       "      <td>0.4</td>\n",
       "    </tr>\n",
       "  </tbody>\n",
       "</table>\n",
       "</div>"
      ],
      "text/plain": [
       "    Age  GenderGroup  GlassesGroup  Height  Wingspan  CWDistance  \\\n",
       "1  1.00          0.0           1.0    0.00      0.07        0.53   \n",
       "2  0.00          0.0           1.0    0.00      0.00        0.00   \n",
       "3  0.23          0.0           1.0    0.36      0.27        0.88   \n",
       "4  0.43          0.0           0.0    0.18      0.20        1.00   \n",
       "5  0.03          1.0           0.0    1.00      1.00        0.12   \n",
       "\n",
       "   CompleteGroup  Score  \n",
       "1            1.0    0.7  \n",
       "2            1.0    0.8  \n",
       "3            1.0    0.0  \n",
       "4            1.0    1.0  \n",
       "5            0.0    0.4  "
      ]
     },
     "execution_count": 74,
     "metadata": {},
     "output_type": "execute_result"
    }
   ],
   "source": [
    "((ndf-ndf.min())/\n",
    "    (ndfRange) \n",
    ").round(2).head()"
   ]
  },
  {
   "cell_type": "markdown",
   "id": "3a17edbc",
   "metadata": {},
   "source": [
    "## 5. Always there are alternatives...."
   ]
  },
  {
   "cell_type": "code",
   "execution_count": 80,
   "id": "775755ce",
   "metadata": {},
   "outputs": [],
   "source": [
    "from sklearn import preprocessing\n",
    "#from sklearn.preprocessing import MinMaxScaler"
   ]
  },
  {
   "cell_type": "markdown",
   "id": "bd35f4d9",
   "metadata": {},
   "source": [
    "### 5.1 Normalización mín.-máx."
   ]
  },
  {
   "cell_type": "code",
   "execution_count": 103,
   "id": "bd6cb398",
   "metadata": {},
   "outputs": [],
   "source": [
    "X = df.Score.head(10).to_frame()\n",
    "scaler = preprocessing.MinMaxScaler().fit(X)\n",
    "#scaler"
   ]
  },
  {
   "cell_type": "code",
   "execution_count": 104,
   "id": "c621c78a",
   "metadata": {},
   "outputs": [
    {
     "data": {
      "text/plain": [
       "array([[0.7, 0.8, 0. , 1. , 0.4, 0.3, 1. , 0.9, 0.5, 0.8]])"
      ]
     },
     "execution_count": 104,
     "metadata": {},
     "output_type": "execute_result"
    }
   ],
   "source": [
    "scaler.fit_transform(X).transpose()"
   ]
  },
  {
   "cell_type": "markdown",
   "id": "a9ece00b",
   "metadata": {},
   "source": [
    "### 5.2. Standardization \n",
    "\n",
    "$$x_i^{new}=\\left(\\frac{x_{i^{}}^{old}-mean(X)}{\\sigma}\\right) $$\n",
    "\n",
    "Standardization - Rescales a dataset to have a `mean 0` and a `standard deviation 1`. "
   ]
  },
  {
   "cell_type": "code",
   "execution_count": 132,
   "id": "26c8d032",
   "metadata": {},
   "outputs": [
    {
     "data": {
      "text/html": [
       "<div>\n",
       "<style scoped>\n",
       "    .dataframe tbody tr th:only-of-type {\n",
       "        vertical-align: middle;\n",
       "    }\n",
       "\n",
       "    .dataframe tbody tr th {\n",
       "        vertical-align: top;\n",
       "    }\n",
       "\n",
       "    .dataframe thead th {\n",
       "        text-align: right;\n",
       "    }\n",
       "</style>\n",
       "<table border=\"1\" class=\"dataframe\">\n",
       "  <thead>\n",
       "    <tr style=\"text-align: right;\">\n",
       "      <th></th>\n",
       "      <th>Score</th>\n",
       "    </tr>\n",
       "  </thead>\n",
       "  <tbody>\n",
       "    <tr>\n",
       "      <th>1</th>\n",
       "      <td>7</td>\n",
       "    </tr>\n",
       "    <tr>\n",
       "      <th>2</th>\n",
       "      <td>8</td>\n",
       "    </tr>\n",
       "    <tr>\n",
       "      <th>3</th>\n",
       "      <td>0</td>\n",
       "    </tr>\n",
       "    <tr>\n",
       "      <th>4</th>\n",
       "      <td>10</td>\n",
       "    </tr>\n",
       "    <tr>\n",
       "      <th>5</th>\n",
       "      <td>4</td>\n",
       "    </tr>\n",
       "    <tr>\n",
       "      <th>6</th>\n",
       "      <td>3</td>\n",
       "    </tr>\n",
       "    <tr>\n",
       "      <th>7</th>\n",
       "      <td>10</td>\n",
       "    </tr>\n",
       "    <tr>\n",
       "      <th>8</th>\n",
       "      <td>9</td>\n",
       "    </tr>\n",
       "    <tr>\n",
       "      <th>9</th>\n",
       "      <td>5</td>\n",
       "    </tr>\n",
       "    <tr>\n",
       "      <th>10</th>\n",
       "      <td>8</td>\n",
       "    </tr>\n",
       "  </tbody>\n",
       "</table>\n",
       "</div>"
      ],
      "text/plain": [
       "    Score\n",
       "1       7\n",
       "2       8\n",
       "3       0\n",
       "4      10\n",
       "5       4\n",
       "6       3\n",
       "7      10\n",
       "8       9\n",
       "9       5\n",
       "10      8"
      ]
     },
     "execution_count": 132,
     "metadata": {},
     "output_type": "execute_result"
    }
   ],
   "source": [
    "X = varX.copy().to_frame()\n",
    "X#.Score.mean()#.transpose()"
   ]
  },
  {
   "cell_type": "markdown",
   "id": "2d61a6ac",
   "metadata": {},
   "source": [
    "#### 5.2.1 Using scikit"
   ]
  },
  {
   "cell_type": "code",
   "execution_count": 137,
   "id": "4ea411cc",
   "metadata": {},
   "outputs": [
    {
     "data": {
      "text/plain": [
       "StandardScaler()"
      ]
     },
     "execution_count": 137,
     "metadata": {},
     "output_type": "execute_result"
    }
   ],
   "source": [
    "scaler = preprocessing.StandardScaler().fit(X)\n",
    "scaler"
   ]
  },
  {
   "cell_type": "code",
   "execution_count": 138,
   "id": "ab90a26f",
   "metadata": {},
   "outputs": [
    {
     "data": {
      "text/plain": [
       "array([6.4])"
      ]
     },
     "execution_count": 138,
     "metadata": {},
     "output_type": "execute_result"
    }
   ],
   "source": [
    "scaler.mean_ # takes the mean of each column"
   ]
  },
  {
   "cell_type": "code",
   "execution_count": 147,
   "id": "8a1afb4b",
   "metadata": {},
   "outputs": [
    {
     "data": {
      "text/plain": [
       "[7, 8, 0, 10, 4, 3, 10, 9, 5, 8]"
      ]
     },
     "execution_count": 147,
     "metadata": {},
     "output_type": "execute_result"
    }
   ],
   "source": [
    "k = X.Score.to_list()\n",
    "k"
   ]
  },
  {
   "cell_type": "code",
   "execution_count": 152,
   "id": "ea67f70b",
   "metadata": {},
   "outputs": [
    {
     "data": {
      "text/plain": [
       "3.1368774282716245"
      ]
     },
     "execution_count": 152,
     "metadata": {},
     "output_type": "execute_result"
    }
   ],
   "source": [
    "sts.pstdev(k)\n",
    "#sts.stdev(k)"
   ]
  },
  {
   "cell_type": "code",
   "execution_count": 169,
   "id": "36e36047",
   "metadata": {},
   "outputs": [
    {
     "data": {
      "text/html": [
       "<div>\n",
       "<style scoped>\n",
       "    .dataframe tbody tr th:only-of-type {\n",
       "        vertical-align: middle;\n",
       "    }\n",
       "\n",
       "    .dataframe tbody tr th {\n",
       "        vertical-align: top;\n",
       "    }\n",
       "\n",
       "    .dataframe thead th {\n",
       "        text-align: right;\n",
       "    }\n",
       "</style>\n",
       "<table border=\"1\" class=\"dataframe\">\n",
       "  <thead>\n",
       "    <tr style=\"text-align: right;\">\n",
       "      <th></th>\n",
       "      <th>0</th>\n",
       "    </tr>\n",
       "  </thead>\n",
       "  <tbody>\n",
       "    <tr>\n",
       "      <th>0</th>\n",
       "      <td>0.191273</td>\n",
       "    </tr>\n",
       "    <tr>\n",
       "      <th>1</th>\n",
       "      <td>0.510061</td>\n",
       "    </tr>\n",
       "    <tr>\n",
       "      <th>2</th>\n",
       "      <td>-2.040245</td>\n",
       "    </tr>\n",
       "    <tr>\n",
       "      <th>3</th>\n",
       "      <td>1.147638</td>\n",
       "    </tr>\n",
       "    <tr>\n",
       "      <th>4</th>\n",
       "      <td>-0.765092</td>\n",
       "    </tr>\n",
       "    <tr>\n",
       "      <th>5</th>\n",
       "      <td>-1.083880</td>\n",
       "    </tr>\n",
       "    <tr>\n",
       "      <th>6</th>\n",
       "      <td>1.147638</td>\n",
       "    </tr>\n",
       "    <tr>\n",
       "      <th>7</th>\n",
       "      <td>0.828850</td>\n",
       "    </tr>\n",
       "    <tr>\n",
       "      <th>8</th>\n",
       "      <td>-0.446304</td>\n",
       "    </tr>\n",
       "    <tr>\n",
       "      <th>9</th>\n",
       "      <td>0.510061</td>\n",
       "    </tr>\n",
       "  </tbody>\n",
       "</table>\n",
       "</div>"
      ],
      "text/plain": [
       "          0\n",
       "0  0.191273\n",
       "1  0.510061\n",
       "2 -2.040245\n",
       "3  1.147638\n",
       "4 -0.765092\n",
       "5 -1.083880\n",
       "6  1.147638\n",
       "7  0.828850\n",
       "8 -0.446304\n",
       "9  0.510061"
      ]
     },
     "execution_count": 169,
     "metadata": {},
     "output_type": "execute_result"
    }
   ],
   "source": [
    "X_scaled = scaler.transform(X) # x-mu/sigma = zscore\n",
    "X_scaled = pd.DataFrame(X_scaled)\n",
    "X_scaled"
   ]
  },
  {
   "cell_type": "code",
   "execution_count": 170,
   "id": "2c47187e",
   "metadata": {},
   "outputs": [
    {
     "data": {
      "text/plain": [
       "0   -1.221245e-16\n",
       "dtype: float64"
      ]
     },
     "execution_count": 170,
     "metadata": {},
     "output_type": "execute_result"
    }
   ],
   "source": [
    "X_scaled.mean()#(axis=0)  axis = 1 (axis='columns') -> -> -> operation -> -> ; axis =0  (axis='index') downward. \n",
    "#np.mean(X_scaled)"
   ]
  },
  {
   "cell_type": "code",
   "execution_count": 171,
   "id": "6759e416",
   "metadata": {},
   "outputs": [
    {
     "data": {
      "text/plain": [
       "0    1.054093\n",
       "dtype: float64"
      ]
     },
     "execution_count": 171,
     "metadata": {},
     "output_type": "execute_result"
    }
   ],
   "source": [
    "X_scaled.std(axis=0)"
   ]
  },
  {
   "cell_type": "markdown",
   "id": "3544aaed",
   "metadata": {},
   "source": [
    "Scaled data has zero mean and unit variance"
   ]
  },
  {
   "cell_type": "code",
   "execution_count": 93,
   "id": "71011c03",
   "metadata": {},
   "outputs": [],
   "source": [
    "import statistics as sts"
   ]
  },
  {
   "cell_type": "code",
   "execution_count": 172,
   "id": "c6577ef4",
   "metadata": {},
   "outputs": [
    {
     "data": {
      "text/plain": [
       "1.0"
      ]
     },
     "execution_count": 172,
     "metadata": {},
     "output_type": "execute_result"
    }
   ],
   "source": [
    "sts.pstdev(X_scaled[0]) #pstdev - Population standard deviaiton. "
   ]
  },
  {
   "cell_type": "markdown",
   "id": "71ef62a8",
   "metadata": {},
   "source": [
    "#### 5.2.2 Using z-score  \n",
    "\n",
    "$$x_i^{new}=\\left(\\frac{x_{i^{}}^{old}-mean(X)}{\\sigma}\\right) $$"
   ]
  },
  {
   "cell_type": "code",
   "execution_count": 181,
   "id": "de2acb48",
   "metadata": {},
   "outputs": [
    {
     "data": {
      "text/html": [
       "<div>\n",
       "<style scoped>\n",
       "    .dataframe tbody tr th:only-of-type {\n",
       "        vertical-align: middle;\n",
       "    }\n",
       "\n",
       "    .dataframe tbody tr th {\n",
       "        vertical-align: top;\n",
       "    }\n",
       "\n",
       "    .dataframe thead th {\n",
       "        text-align: right;\n",
       "    }\n",
       "</style>\n",
       "<table border=\"1\" class=\"dataframe\">\n",
       "  <thead>\n",
       "    <tr style=\"text-align: right;\">\n",
       "      <th></th>\n",
       "      <th>Score</th>\n",
       "    </tr>\n",
       "  </thead>\n",
       "  <tbody>\n",
       "    <tr>\n",
       "      <th>1</th>\n",
       "      <td>0.191273</td>\n",
       "    </tr>\n",
       "    <tr>\n",
       "      <th>2</th>\n",
       "      <td>0.510061</td>\n",
       "    </tr>\n",
       "    <tr>\n",
       "      <th>3</th>\n",
       "      <td>-2.040245</td>\n",
       "    </tr>\n",
       "    <tr>\n",
       "      <th>4</th>\n",
       "      <td>1.147638</td>\n",
       "    </tr>\n",
       "    <tr>\n",
       "      <th>5</th>\n",
       "      <td>-0.765092</td>\n",
       "    </tr>\n",
       "    <tr>\n",
       "      <th>6</th>\n",
       "      <td>-1.083880</td>\n",
       "    </tr>\n",
       "    <tr>\n",
       "      <th>7</th>\n",
       "      <td>1.147638</td>\n",
       "    </tr>\n",
       "    <tr>\n",
       "      <th>8</th>\n",
       "      <td>0.828850</td>\n",
       "    </tr>\n",
       "    <tr>\n",
       "      <th>9</th>\n",
       "      <td>-0.446304</td>\n",
       "    </tr>\n",
       "    <tr>\n",
       "      <th>10</th>\n",
       "      <td>0.510061</td>\n",
       "    </tr>\n",
       "  </tbody>\n",
       "</table>\n",
       "</div>"
      ],
      "text/plain": [
       "       Score\n",
       "1   0.191273\n",
       "2   0.510061\n",
       "3  -2.040245\n",
       "4   1.147638\n",
       "5  -0.765092\n",
       "6  -1.083880\n",
       "7   1.147638\n",
       "8   0.828850\n",
       "9  -0.446304\n",
       "10  0.510061"
      ]
     },
     "execution_count": 181,
     "metadata": {},
     "output_type": "execute_result"
    }
   ],
   "source": [
    "import scipy.stats as stats\n",
    "X_scaledB = stats.zscore(X)\n",
    "X_scaledB"
   ]
  },
  {
   "cell_type": "code",
   "execution_count": 182,
   "id": "6e6965da",
   "metadata": {},
   "outputs": [
    {
     "data": {
      "text/plain": [
       "-1.2212453270876723e-16"
      ]
     },
     "execution_count": 182,
     "metadata": {},
     "output_type": "execute_result"
    }
   ],
   "source": [
    "X_scaledB.Score.mean()\n",
    "#np.mean(X_scaledB.Score)"
   ]
  },
  {
   "cell_type": "code",
   "execution_count": 183,
   "id": "2e9b7b1b",
   "metadata": {},
   "outputs": [
    {
     "data": {
      "text/plain": [
       "1.0"
      ]
     },
     "execution_count": 183,
     "metadata": {},
     "output_type": "execute_result"
    }
   ],
   "source": [
    "sts.pstdev(X_scaledB.Score)"
   ]
  },
  {
   "cell_type": "markdown",
   "id": "9e81a060",
   "metadata": {},
   "source": [
    "#### 5.2.3 Using z-score   Calculating manually\n",
    "\n",
    "$$x_i^{new}=\\left(\\frac{x_{i^{}}^{old}-mean(X)}{\\sigma}\\right) $$"
   ]
  },
  {
   "cell_type": "code",
   "execution_count": 184,
   "id": "77379794",
   "metadata": {},
   "outputs": [
    {
     "data": {
      "text/plain": [
       "6.4"
      ]
     },
     "execution_count": 184,
     "metadata": {},
     "output_type": "execute_result"
    }
   ],
   "source": [
    "xm = X.Score.mean()\n",
    "xm"
   ]
  },
  {
   "cell_type": "code",
   "execution_count": 185,
   "id": "ba426879",
   "metadata": {},
   "outputs": [
    {
     "data": {
      "text/plain": [
       "3.1368774282716245"
      ]
     },
     "execution_count": 185,
     "metadata": {},
     "output_type": "execute_result"
    }
   ],
   "source": [
    "sd = sts.pstdev(X.Score) #pstdev - Population standard deviaiton. \n",
    "sd"
   ]
  },
  {
   "cell_type": "code",
   "execution_count": 186,
   "id": "46fd87cd",
   "metadata": {},
   "outputs": [
    {
     "data": {
      "text/html": [
       "<div>\n",
       "<style scoped>\n",
       "    .dataframe tbody tr th:only-of-type {\n",
       "        vertical-align: middle;\n",
       "    }\n",
       "\n",
       "    .dataframe tbody tr th {\n",
       "        vertical-align: top;\n",
       "    }\n",
       "\n",
       "    .dataframe thead th {\n",
       "        text-align: right;\n",
       "    }\n",
       "</style>\n",
       "<table border=\"1\" class=\"dataframe\">\n",
       "  <thead>\n",
       "    <tr style=\"text-align: right;\">\n",
       "      <th></th>\n",
       "      <th>Score</th>\n",
       "    </tr>\n",
       "  </thead>\n",
       "  <tbody>\n",
       "    <tr>\n",
       "      <th>1</th>\n",
       "      <td>0.191273</td>\n",
       "    </tr>\n",
       "    <tr>\n",
       "      <th>2</th>\n",
       "      <td>0.510061</td>\n",
       "    </tr>\n",
       "    <tr>\n",
       "      <th>3</th>\n",
       "      <td>-2.040245</td>\n",
       "    </tr>\n",
       "    <tr>\n",
       "      <th>4</th>\n",
       "      <td>1.147638</td>\n",
       "    </tr>\n",
       "    <tr>\n",
       "      <th>5</th>\n",
       "      <td>-0.765092</td>\n",
       "    </tr>\n",
       "    <tr>\n",
       "      <th>6</th>\n",
       "      <td>-1.083880</td>\n",
       "    </tr>\n",
       "    <tr>\n",
       "      <th>7</th>\n",
       "      <td>1.147638</td>\n",
       "    </tr>\n",
       "    <tr>\n",
       "      <th>8</th>\n",
       "      <td>0.828850</td>\n",
       "    </tr>\n",
       "    <tr>\n",
       "      <th>9</th>\n",
       "      <td>-0.446304</td>\n",
       "    </tr>\n",
       "    <tr>\n",
       "      <th>10</th>\n",
       "      <td>0.510061</td>\n",
       "    </tr>\n",
       "  </tbody>\n",
       "</table>\n",
       "</div>"
      ],
      "text/plain": [
       "       Score\n",
       "1   0.191273\n",
       "2   0.510061\n",
       "3  -2.040245\n",
       "4   1.147638\n",
       "5  -0.765092\n",
       "6  -1.083880\n",
       "7   1.147638\n",
       "8   0.828850\n",
       "9  -0.446304\n",
       "10  0.510061"
      ]
     },
     "execution_count": 186,
     "metadata": {},
     "output_type": "execute_result"
    }
   ],
   "source": [
    "X_scaledC = (X-xm)/sd\n",
    "X_scaledC"
   ]
  },
  {
   "cell_type": "markdown",
   "id": "16e0ee20",
   "metadata": {},
   "source": [
    "Scaled data has zero mean and unit variance"
   ]
  },
  {
   "cell_type": "code",
   "execution_count": 188,
   "id": "d7d2de53",
   "metadata": {},
   "outputs": [
    {
     "data": {
      "text/plain": [
       "Score    1.111111\n",
       "dtype: float64"
      ]
     },
     "execution_count": 188,
     "metadata": {},
     "output_type": "execute_result"
    }
   ],
   "source": [
    "X_scaledC.var()"
   ]
  },
  {
   "cell_type": "code",
   "execution_count": 189,
   "id": "fc789729",
   "metadata": {},
   "outputs": [
    {
     "data": {
      "text/plain": [
       "Score   -1.221245e-16\n",
       "dtype: float64"
      ]
     },
     "execution_count": 189,
     "metadata": {},
     "output_type": "execute_result"
    }
   ],
   "source": [
    "X_scaledC.mean()"
   ]
  },
  {
   "cell_type": "code",
   "execution_count": 192,
   "id": "b0659266",
   "metadata": {},
   "outputs": [
    {
     "data": {
      "text/plain": [
       "1.0"
      ]
     },
     "execution_count": 192,
     "metadata": {},
     "output_type": "execute_result"
    }
   ],
   "source": [
    "sts.pstdev(X_scaledC.Score)"
   ]
  },
  {
   "cell_type": "code",
   "execution_count": 199,
   "id": "31916b55",
   "metadata": {},
   "outputs": [
    {
     "name": "stdout",
     "output_type": "stream",
     "text": [
      "....................................................... End .......................................................\n"
     ]
    }
   ],
   "source": [
    "print('.'*55,'End','.'*55)"
   ]
  }
 ],
 "metadata": {
  "kernelspec": {
   "display_name": "Python 3 (ipykernel)",
   "language": "python",
   "name": "python3"
  },
  "language_info": {
   "codemirror_mode": {
    "name": "ipython",
    "version": 3
   },
   "file_extension": ".py",
   "mimetype": "text/x-python",
   "name": "python",
   "nbconvert_exporter": "python",
   "pygments_lexer": "ipython3",
   "version": "3.9.5"
  }
 },
 "nbformat": 4,
 "nbformat_minor": 5
}
